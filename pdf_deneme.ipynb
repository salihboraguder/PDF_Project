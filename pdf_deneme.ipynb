{
 "cells": [
  {
   "cell_type": "code",
   "execution_count": 2,
   "metadata": {},
   "outputs": [],
   "source": [
    "from PyPDF2 import PdfReader,PdfWriter"
   ]
  },
  {
   "cell_type": "code",
   "execution_count": 4,
   "metadata": {},
   "outputs": [
    {
     "name": "stdout",
     "output_type": "stream",
     "text": [
      "Salih Bora GÜDER   \n",
      "Şişli/İstanbul  +90 537 523 04 2 2 | salihboraguder@gmail.com    gudersa19@itu.edu.tr  | \n",
      "https://www.linkedin.com/in/salihboraguder/   | https://github.com/salihboraguder   \n",
      "Education  \n",
      "• Istanbul Technical University  \n",
      "• Faculty of M anagement - Department of Management Engineering  \n",
      "Class: Junior  \n",
      "GPA: 3.40/4, High Honor Student (Changed Major)   \n",
      "• Faculty of Sciences - Department of Math ematical Engineering  \n",
      "Class: Junior  \n",
      "GPA: 3. 33/4, High Honor Student  \n",
      " \n",
      "Experience  \n",
      "Februar y 2022  – Now \n",
      "Researcher Student  | ITU \n",
      "• Writing a paper about centroid initializ ation techniques for K-Means clustering algorithm \n",
      "together w ith 4 of my stu dent friends  and 2 supervi sor teachers . \n",
      "June 2 022– August 2022  \n",
      "Intern  | Crealab  \n",
      "• Researched about database design patterns and normalization techniques. Helpe d \n",
      "implementing them  \n",
      "• Made a na ming scheme for table  names, key names etc.  \n",
      "August 2022– December  2022  \n",
      "Business In telligence Intern  | Kariyer .Net \n",
      "• I dealt  with day-to-day SQL Query needs.  \n",
      "• I worked on web crawling projects using Selenium and BeautifulSoup.  \n",
      "• I assisted  on some Machine  Learning project s for market segmentation and c hurn \n",
      "prediction  using Python . \n",
      " \n"
     ]
    }
   ],
   "source": [
    "import tkinter as tk\n",
    "\n",
    "def button_click1():\n",
    "    reader = PdfReader(\"/home/salihboraguder/Desktop/Salih Bora GUDER CV.pdf\")\n",
    "    page = reader.pages[0]\n",
    "    print(page.extract_text())\n",
    "\n",
    "def button_click2():\n",
    "    print(\"Button 2 clicked!\")\n",
    "\n",
    "root = tk.Tk()\n",
    "\n",
    "button1 = tk.Button(root, text=\"Button 1\", command=button_click1)\n",
    "button2 = tk.Button(root, text=\"Button 2\", command=button_click2)\n",
    "\n",
    "button1.pack()\n",
    "button2.pack()\n",
    "\n",
    "root.mainloop()"
   ]
  },
  {
   "cell_type": "code",
   "execution_count": 10,
   "metadata": {},
   "outputs": [],
   "source": [
    "import tkinter as tk\n",
    "  \n",
    "# Top level window\n",
    "frame = tk.Tk()\n",
    "frame.title(\"PDF Details\")\n",
    "frame.geometry('400x200')\n",
    "# Function for getting Input\n",
    "# from textbox and printing it \n",
    "# at label widget\n",
    "  \n",
    "def printInput():\n",
    "    inp = inputtxt.get(1.0, \"end-1c\")\n",
    "    reader = PdfReader(inp)\n",
    "    page = reader.pages[0]\n",
    "    lbl.config(text =page.extract_text())\n",
    "  \n",
    "# TextBox Creation\n",
    "\n",
    "inputtxt = tk.Text(frame,\n",
    "                   height = 1,\n",
    "                   width = 30)\n",
    "  \n",
    "inputtxt.pack()\n",
    "  \n",
    "# Button Creation\n",
    "printButton = tk.Button(frame,\n",
    "                        text = \"Print\", \n",
    "                        command = printInput)\n",
    "printButton.pack()\n",
    "  \n",
    "# Label Creation\n",
    "lbl = tk.Label(frame, text = \"\")\n",
    "lbl.pack()\n",
    "frame.mainloop()"
   ]
  },
  {
   "cell_type": "code",
   "execution_count": null,
   "metadata": {},
   "outputs": [],
   "source": []
  }
 ],
 "metadata": {
  "kernelspec": {
   "display_name": "Python 3",
   "language": "python",
   "name": "python3"
  },
  "language_info": {
   "codemirror_mode": {
    "name": "ipython",
    "version": 3
   },
   "file_extension": ".py",
   "mimetype": "text/x-python",
   "name": "python",
   "nbconvert_exporter": "python",
   "pygments_lexer": "ipython3",
   "version": "3.10.6"
  },
  "orig_nbformat": 4
 },
 "nbformat": 4,
 "nbformat_minor": 2
}
